{
 "cells": [
  {
   "cell_type": "code",
   "execution_count": 1,
   "id": "ee286efc",
   "metadata": {},
   "outputs": [],
   "source": [
    "import torch\n",
    "from torch.utils.data import DataLoader\n",
    "import torchvision.transforms as transforms\n",
    "import torchvision.datasets as datasets\n",
    "from ovca import OVCA"
   ]
  },
  {
   "cell_type": "code",
   "execution_count": null,
   "id": "2c3cc8a9",
   "metadata": {},
   "outputs": [],
   "source": [
    "splits = '/projects/ovcare/classification/cshi/OoD/data/512_20/create_splits/splits/'\n",
    "chunks = [0, 1, 2]\n",
    "\n",
    "ov = OVCA(img_json, chunk, transform=None, target_transform=None, idx_to_label=None, key_word='Tumor')\n"
   ]
  },
  {
   "cell_type": "code",
   "execution_count": null,
   "id": "5fdf494f",
   "metadata": {},
   "outputs": [],
   "source": [
    "def get_mean_and_std(dataloader):\n",
    "    channels_sum, channels_squared_sum, num_batches = 0, 0, 0\n",
    "    for data, _ in dataloader:\n",
    "        # Mean over batch, height and width, but not over the channels\n",
    "        channels_sum += torch.mean(data, dim=[0,2,3])\n",
    "        channels_squared_sum += torch.mean(data**2, dim=[0,2,3])\n",
    "        num_batches += 1\n",
    "    \n",
    "    mean = channels_sum / num_batches\n",
    "\n",
    "    # std = sqrt(E[X^2] - (E[X])^2)\n",
    "    std = (channels_squared_sum / num_batches - mean ** 2) ** 0.5\n",
    "\n",
    "    return mean, std"
   ]
  }
 ],
 "metadata": {
  "kernelspec": {
   "display_name": "Python (dsga1008)",
   "language": "python",
   "name": "dsga1008"
  },
  "language_info": {
   "codemirror_mode": {
    "name": "ipython",
    "version": 3
   },
   "file_extension": ".py",
   "mimetype": "text/x-python",
   "name": "python",
   "nbconvert_exporter": "python",
   "pygments_lexer": "ipython3",
   "version": "3.7.6"
  }
 },
 "nbformat": 4,
 "nbformat_minor": 5
}
